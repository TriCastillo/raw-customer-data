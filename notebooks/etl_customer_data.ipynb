{
 "cells": [
  {
   "cell_type": "code",
   "execution_count": 2,
   "id": "7cb7b486",
   "metadata": {},
   "outputs": [],
   "source": [
    "import pandas as pd\n",
    "import os\n",
    "\n",
    "plot_directory = '../images/'\n",
    "\n",
    "os.makedirs(plot_directory, exist_ok=True)\n"
   ]
  },
  {
   "cell_type": "markdown",
   "id": "e03a016e",
   "metadata": {},
   "source": [
    "# Step 1 - Data Extraction/Collection"
   ]
  },
  {
   "cell_type": "code",
   "execution_count": 3,
   "id": "f1e8f921",
   "metadata": {},
   "outputs": [],
   "source": [
    "# ETL Process\n",
    "\n",
    "# Extract - Step 1\n",
    "df = pd.read_csv('../data/customer_shopping_data.csv')\n"
   ]
  },
  {
   "cell_type": "markdown",
   "id": "acc2dccb",
   "metadata": {},
   "source": [
    "# Step 2 - Exploratory Data Analysis (EDA)"
   ]
  },
  {
   "cell_type": "markdown",
   "id": "c267f495",
   "metadata": {},
   "source": [
    "## Structure, Duplicates, and Null values"
   ]
  },
  {
   "cell_type": "code",
   "execution_count": 4,
   "id": "f198faad",
   "metadata": {},
   "outputs": [
    {
     "data": {
      "text/html": [
       "<div>\n",
       "<style scoped>\n",
       "    .dataframe tbody tr th:only-of-type {\n",
       "        vertical-align: middle;\n",
       "    }\n",
       "\n",
       "    .dataframe tbody tr th {\n",
       "        vertical-align: top;\n",
       "    }\n",
       "\n",
       "    .dataframe thead th {\n",
       "        text-align: right;\n",
       "    }\n",
       "</style>\n",
       "<table border=\"1\" class=\"dataframe\">\n",
       "  <thead>\n",
       "    <tr style=\"text-align: right;\">\n",
       "      <th></th>\n",
       "      <th>invoice_no</th>\n",
       "      <th>customer_id</th>\n",
       "      <th>gender</th>\n",
       "      <th>age</th>\n",
       "      <th>category</th>\n",
       "      <th>quantity</th>\n",
       "      <th>price</th>\n",
       "      <th>payment_method</th>\n",
       "      <th>invoice_date</th>\n",
       "      <th>shopping_mall</th>\n",
       "    </tr>\n",
       "  </thead>\n",
       "  <tbody>\n",
       "    <tr>\n",
       "      <th>0</th>\n",
       "      <td>I138884</td>\n",
       "      <td>C241288</td>\n",
       "      <td>Female</td>\n",
       "      <td>28</td>\n",
       "      <td>Clothing</td>\n",
       "      <td>5</td>\n",
       "      <td>1500.40</td>\n",
       "      <td>Credit Card</td>\n",
       "      <td>5/8/2022</td>\n",
       "      <td>Kanyon</td>\n",
       "    </tr>\n",
       "    <tr>\n",
       "      <th>1</th>\n",
       "      <td>I317333</td>\n",
       "      <td>C111565</td>\n",
       "      <td>Male</td>\n",
       "      <td>21</td>\n",
       "      <td>Shoes</td>\n",
       "      <td>3</td>\n",
       "      <td>1800.51</td>\n",
       "      <td>Debit Card</td>\n",
       "      <td>12/12/2021</td>\n",
       "      <td>Forum Istanbul</td>\n",
       "    </tr>\n",
       "    <tr>\n",
       "      <th>2</th>\n",
       "      <td>I127801</td>\n",
       "      <td>C266599</td>\n",
       "      <td>Male</td>\n",
       "      <td>20</td>\n",
       "      <td>Clothing</td>\n",
       "      <td>1</td>\n",
       "      <td>300.08</td>\n",
       "      <td>Cash</td>\n",
       "      <td>9/11/2021</td>\n",
       "      <td>Metrocity</td>\n",
       "    </tr>\n",
       "    <tr>\n",
       "      <th>3</th>\n",
       "      <td>I173702</td>\n",
       "      <td>C988172</td>\n",
       "      <td>Female</td>\n",
       "      <td>66</td>\n",
       "      <td>Shoes</td>\n",
       "      <td>5</td>\n",
       "      <td>3000.85</td>\n",
       "      <td>Credit Card</td>\n",
       "      <td>16/05/2021</td>\n",
       "      <td>Metropol AVM</td>\n",
       "    </tr>\n",
       "    <tr>\n",
       "      <th>4</th>\n",
       "      <td>I337046</td>\n",
       "      <td>C189076</td>\n",
       "      <td>Female</td>\n",
       "      <td>53</td>\n",
       "      <td>Books</td>\n",
       "      <td>4</td>\n",
       "      <td>60.60</td>\n",
       "      <td>Cash</td>\n",
       "      <td>24/10/2021</td>\n",
       "      <td>Kanyon</td>\n",
       "    </tr>\n",
       "  </tbody>\n",
       "</table>\n",
       "</div>"
      ],
      "text/plain": [
       "  invoice_no customer_id  gender  age  category  quantity    price  \\\n",
       "0    I138884     C241288  Female   28  Clothing         5  1500.40   \n",
       "1    I317333     C111565    Male   21     Shoes         3  1800.51   \n",
       "2    I127801     C266599    Male   20  Clothing         1   300.08   \n",
       "3    I173702     C988172  Female   66     Shoes         5  3000.85   \n",
       "4    I337046     C189076  Female   53     Books         4    60.60   \n",
       "\n",
       "  payment_method invoice_date   shopping_mall  \n",
       "0    Credit Card     5/8/2022          Kanyon  \n",
       "1     Debit Card   12/12/2021  Forum Istanbul  \n",
       "2           Cash    9/11/2021       Metrocity  \n",
       "3    Credit Card   16/05/2021    Metropol AVM  \n",
       "4           Cash   24/10/2021          Kanyon  "
      ]
     },
     "execution_count": 4,
     "metadata": {},
     "output_type": "execute_result"
    }
   ],
   "source": [
    "# EDA - Step 2\n",
    "df.head()"
   ]
  },
  {
   "cell_type": "code",
   "execution_count": 5,
   "id": "8d04c6ad",
   "metadata": {},
   "outputs": [
    {
     "name": "stdout",
     "output_type": "stream",
     "text": [
      "<class 'pandas.core.frame.DataFrame'>\n",
      "RangeIndex: 99457 entries, 0 to 99456\n",
      "Data columns (total 10 columns):\n",
      " #   Column          Non-Null Count  Dtype  \n",
      "---  ------          --------------  -----  \n",
      " 0   invoice_no      99457 non-null  object \n",
      " 1   customer_id     99457 non-null  object \n",
      " 2   gender          99457 non-null  object \n",
      " 3   age             99457 non-null  int64  \n",
      " 4   category        99457 non-null  object \n",
      " 5   quantity        99457 non-null  int64  \n",
      " 6   price           99457 non-null  float64\n",
      " 7   payment_method  99457 non-null  object \n",
      " 8   invoice_date    99457 non-null  object \n",
      " 9   shopping_mall   99457 non-null  object \n",
      "dtypes: float64(1), int64(2), object(7)\n",
      "memory usage: 7.6+ MB\n"
     ]
    }
   ],
   "source": [
    "df.info()\n",
    "\n",
    "# Most are object dtype, must convert to appropriate types"
   ]
  },
  {
   "cell_type": "code",
   "execution_count": 6,
   "id": "fc24494d",
   "metadata": {},
   "outputs": [
    {
     "data": {
      "text/plain": [
       "np.int64(0)"
      ]
     },
     "execution_count": 6,
     "metadata": {},
     "output_type": "execute_result"
    }
   ],
   "source": [
    "# Check for duplicates\n",
    "df[['invoice_no','customer_id']].duplicated().sum()\n",
    "\n",
    "# No duplicates"
   ]
  },
  {
   "cell_type": "code",
   "execution_count": 7,
   "id": "25127a92",
   "metadata": {},
   "outputs": [
    {
     "data": {
      "text/html": [
       "<div>\n",
       "<style scoped>\n",
       "    .dataframe tbody tr th:only-of-type {\n",
       "        vertical-align: middle;\n",
       "    }\n",
       "\n",
       "    .dataframe tbody tr th {\n",
       "        vertical-align: top;\n",
       "    }\n",
       "\n",
       "    .dataframe thead th {\n",
       "        text-align: right;\n",
       "    }\n",
       "</style>\n",
       "<table border=\"1\" class=\"dataframe\">\n",
       "  <thead>\n",
       "    <tr style=\"text-align: right;\">\n",
       "      <th></th>\n",
       "      <th>invoice_no</th>\n",
       "      <th>customer_id</th>\n",
       "      <th>gender</th>\n",
       "      <th>age</th>\n",
       "      <th>category</th>\n",
       "      <th>quantity</th>\n",
       "      <th>price</th>\n",
       "      <th>payment_method</th>\n",
       "      <th>invoice_date</th>\n",
       "      <th>shopping_mall</th>\n",
       "    </tr>\n",
       "  </thead>\n",
       "  <tbody>\n",
       "  </tbody>\n",
       "</table>\n",
       "</div>"
      ],
      "text/plain": [
       "Empty DataFrame\n",
       "Columns: [invoice_no, customer_id, gender, age, category, quantity, price, payment_method, invoice_date, shopping_mall]\n",
       "Index: []"
      ]
     },
     "execution_count": 7,
     "metadata": {},
     "output_type": "execute_result"
    }
   ],
   "source": [
    "df[df[['invoice_no','customer_id']].duplicated()]"
   ]
  },
  {
   "cell_type": "code",
   "execution_count": 8,
   "id": "1634ddb9",
   "metadata": {},
   "outputs": [
    {
     "data": {
      "text/plain": [
       "invoice_no        0\n",
       "customer_id       0\n",
       "gender            0\n",
       "age               0\n",
       "category          0\n",
       "quantity          0\n",
       "price             0\n",
       "payment_method    0\n",
       "invoice_date      0\n",
       "shopping_mall     0\n",
       "dtype: int64"
      ]
     },
     "execution_count": 8,
     "metadata": {},
     "output_type": "execute_result"
    }
   ],
   "source": [
    "# Check for null values\n",
    "df.isnull().sum()\n",
    "\n",
    "# No null values"
   ]
  },
  {
   "cell_type": "markdown",
   "id": "d4458153",
   "metadata": {},
   "source": [
    "## Basic visualizations"
   ]
  },
  {
   "cell_type": "markdown",
   "id": "b6d6fb87",
   "metadata": {},
   "source": [
    "### Gender"
   ]
  },
  {
   "cell_type": "code",
   "execution_count": 9,
   "id": "18a1da32",
   "metadata": {},
   "outputs": [
    {
     "data": {
      "image/png": "[encoded data removed]",
      "text/plain": [
       "<Figure size 640x480 with 1 Axes>"
      ]
     },
     "metadata": {},
     "output_type": "display_data"
    }
   ],
   "source": [
    "gender_group = df.groupby('gender')['customer_id'].count().reset_index(name='Count')\n",
    "\n",
    "ax = gender_group.plot.bar(x='gender', y='Count')\n",
    "\n",
    "fig = ax.figure\n",
    "\n",
    "fig.savefig(os.path.join(plot_directory, 'raw_gender_distribution_barplot.png'))\n",
    "\n",
    "# Output:\n",
    "# F: 1\n",
    "# M: 3\n",
    "# Female: 7\n",
    "# Male: 7\n",
    "\n",
    "# Multiple types of only two genders are present, must standardize"
   ]
  },
  {
   "cell_type": "markdown",
   "id": "2721307b",
   "metadata": {},
   "source": [
    "### Age"
   ]
  },
  {
   "cell_type": "code",
   "execution_count": 10,
   "id": "e209215b",
   "metadata": {},
   "outputs": [
    {
     "data": {
      "image/png": "[encoded data removed]",
      "text/plain": [
       "<Figure size 640x480 with 1 Axes>"
      ]
     },
     "metadata": {},
     "output_type": "display_data"
    }
   ],
   "source": [
    "ax = df['age'].plot.hist(bins=10)\n",
    "fig = ax.figure\n",
    "fig.savefig(os.path.join(plot_directory, 'raw_age_distribution_histogram.png'))"
   ]
  },
  {
   "cell_type": "markdown",
   "id": "3f7d4f29",
   "metadata": {},
   "source": [
    "### Category"
   ]
  },
  {
   "cell_type": "code",
   "execution_count": 11,
   "id": "82bf74b5",
   "metadata": {},
   "outputs": [
    {
     "data": {
      "image/png": "[encoded data removed]",
      "text/plain": [
       "<Figure size 640x480 with 1 Axes>"
      ]
     },
     "metadata": {},
     "output_type": "display_data"
    }
   ],
   "source": [
    "category_group = df.groupby('category')['quantity'].sum().reset_index(name='Count')\n",
    "\n",
    "ax = category_group.plot.bar(x='category', y='Count')\n",
    "\n",
    "fig = ax.figure\n",
    "\n",
    "fig.savefig(os.path.join(plot_directory, 'raw_category_barplot.png'))"
   ]
  },
  {
   "cell_type": "markdown",
   "id": "49b86ab5",
   "metadata": {},
   "source": [
    "### Payment Method Used"
   ]
  },
  {
   "cell_type": "code",
   "execution_count": 12,
   "id": "44d408d0",
   "metadata": {},
   "outputs": [
    {
     "data": {
      "image/png": "[encoded data removed]",
      "text/plain": [
       "<Figure size 640x480 with 1 Axes>"
      ]
     },
     "metadata": {},
     "output_type": "display_data"
    }
   ],
   "source": [
    "payment_group = df.groupby('payment_method')['customer_id'].count().reset_index(name='Count')\n",
    "ax = payment_group.plot.bar(x='payment_method', y='Count')\n",
    "fig = ax.figure\n",
    "fig.savefig(os.path.join(plot_directory, 'raw_payment_method_barplot.png'))"
   ]
  },
  {
   "cell_type": "markdown",
   "id": "f372bec4",
   "metadata": {},
   "source": [
    "### Dates"
   ]
  },
  {
   "cell_type": "code",
   "execution_count": 13,
   "id": "c9313e99",
   "metadata": {},
   "outputs": [
    {
     "data": {
      "image/png": "[encoded data removed]",
      "text/plain": [
       "<Figure size 640x480 with 1 Axes>"
      ]
     },
     "metadata": {},
     "output_type": "display_data"
    }
   ],
   "source": [
    "# Number of transactions by year\n",
    "df['invoice_date'] = pd.to_datetime(df['invoice_date'], format='mixed', dayfirst=True)\n",
    "df['year'] = df['invoice_date'].dt.year\n",
    "year_group = df.groupby('year')['customer_id'].count().reset_index(name='Count')\n",
    "ax = year_group.plot.bar(x='year', y='Count')\n",
    "fig = ax.figure\n",
    "fig.savefig(os.path.join(plot_directory, 'raw_transactions_by_year_barplot.png'))"
   ]
  },
  {
   "cell_type": "code",
   "execution_count": 14,
   "id": "01bc290f",
   "metadata": {},
   "outputs": [
    {
     "data": {
      "image/png": "[encoded data removed]",
      "text/plain": [
       "<Figure size 640x480 with 1 Axes>"
      ]
     },
     "metadata": {},
     "output_type": "display_data"
    }
   ],
   "source": [
    "# Number of transactions by month\n",
    "df['month'] = df['invoice_date'].dt.month\n",
    "month_group = df.groupby('month')['customer_id'].count().reset_index(name='Count')\n",
    "ax = month_group.plot.bar(x='month', y='Count')\n",
    "fig = ax.figure\n",
    "fig.savefig(os.path.join(plot_directory, 'raw_transactions_by_month_barplot.png'))"
   ]
  },
  {
   "cell_type": "code",
   "execution_count": 15,
   "id": "8d8dcc09",
   "metadata": {},
   "outputs": [
    {
     "data": {
      "image/png": "[encoded data removed]",
      "text/plain": [
       "<Figure size 640x480 with 1 Axes>"
      ]
     },
     "metadata": {},
     "output_type": "display_data"
    }
   ],
   "source": [
    "# Number of transactions by day of week\n",
    "df['day_of_week'] = df['invoice_date'].dt.dayofweek\n",
    "day_group = df.groupby('day_of_week')['customer_id'].count().reset_index(name='Count')\n",
    "ax = day_group.plot.bar(x='day_of_week', y='Count')\n",
    "fig = ax.figure\n",
    "fig.savefig(os.path.join(plot_directory, 'raw_transactions_by_day_of_week_barplot.png'))"
   ]
  },
  {
   "cell_type": "markdown",
   "id": "4d7a8e2c",
   "metadata": {},
   "source": [
    "### Shopping Mall"
   ]
  },
  {
   "cell_type": "code",
   "execution_count": 16,
   "id": "fdd05b11",
   "metadata": {},
   "outputs": [
    {
     "data": {
      "image/png": "[encoded data removed]",
      "text/plain": [
       "<Figure size 640x480 with 1 Axes>"
      ]
     },
     "metadata": {},
     "output_type": "display_data"
    }
   ],
   "source": [
    "mall_group = df.groupby('shopping_mall')['customer_id'].count().reset_index(name='Count')\n",
    "ax = mall_group.plot.bar(x='shopping_mall', y='Count')\n",
    "fig = ax.figure\n",
    "fig.savefig(os.path.join(plot_directory, 'raw_transactions_by_shopping_mall_barplot.png'))"
   ]
  },
  {
   "cell_type": "markdown",
   "id": "370dbe2a",
   "metadata": {},
   "source": [
    "Data does not seem to contain any inconsistencies. Proceed to loading into a PostgreSQL database"
   ]
  },
  {
   "cell_type": "markdown",
   "id": "ea09bd9a",
   "metadata": {},
   "source": [
    "# Step 3 - Data Cleaning"
   ]
  },
  {
   "cell_type": "markdown",
   "id": "5e86703a",
   "metadata": {},
   "source": [
    "## Gender Standardization"
   ]
  },
  {
   "cell_type": "code",
   "execution_count": 18,
   "id": "b155f494",
   "metadata": {},
   "outputs": [],
   "source": [
    "df['gender'] = df['gender'].replace({'Male': 'M', 'Female': 'F'})"
   ]
  },
  {
   "cell_type": "markdown",
   "id": "51530004",
   "metadata": {},
   "source": [
    "## Convert into proper data types"
   ]
  },
  {
   "cell_type": "code",
   "execution_count": 20,
   "id": "3f6fde80",
   "metadata": {},
   "outputs": [],
   "source": [
    "# Convert pandas dtypes to native Python types for psycopg2 compatibility\n",
    "# psycopg2 does not support pandas dtypes directly\n",
    "df = df.astype({\n",
    "    'invoice_no': 'str',\n",
    "    'customer_id': 'str',\n",
    "    'gender': 'str',\n",
    "    'age': 'int',\n",
    "    'category': 'str',\n",
    "    'quantity': 'int',\n",
    "    'price': 'float',\n",
    "    'payment_method': 'str',\n",
    "    'invoice_date': 'datetime64[ns]',\n",
    "    'shopping_mall': 'str',\n",
    "    'year': 'int',\n",
    "    'month': 'int',\n",
    "    'day_of_week': 'int'\n",
    "})"
   ]
  },
  {
   "cell_type": "code",
   "execution_count": 21,
   "id": "4caf6872",
   "metadata": {},
   "outputs": [
    {
     "data": {
      "text/html": [
       "<div>\n",
       "<style scoped>\n",
       "    .dataframe tbody tr th:only-of-type {\n",
       "        vertical-align: middle;\n",
       "    }\n",
       "\n",
       "    .dataframe tbody tr th {\n",
       "        vertical-align: top;\n",
       "    }\n",
       "\n",
       "    .dataframe thead th {\n",
       "        text-align: right;\n",
       "    }\n",
       "</style>\n",
       "<table border=\"1\" class=\"dataframe\">\n",
       "  <thead>\n",
       "    <tr style=\"text-align: right;\">\n",
       "      <th></th>\n",
       "      <th>invoice_no</th>\n",
       "      <th>customer_id</th>\n",
       "      <th>gender</th>\n",
       "      <th>age</th>\n",
       "      <th>category</th>\n",
       "      <th>quantity</th>\n",
       "      <th>price</th>\n",
       "      <th>payment_method</th>\n",
       "      <th>invoice_date</th>\n",
       "      <th>shopping_mall</th>\n",
       "      <th>year</th>\n",
       "      <th>month</th>\n",
       "      <th>day_of_week</th>\n",
       "    </tr>\n",
       "  </thead>\n",
       "  <tbody>\n",
       "    <tr>\n",
       "      <th>0</th>\n",
       "      <td>I138884</td>\n",
       "      <td>C241288</td>\n",
       "      <td>F</td>\n",
       "      <td>28</td>\n",
       "      <td>Clothing</td>\n",
       "      <td>5</td>\n",
       "      <td>1500.40</td>\n",
       "      <td>Credit Card</td>\n",
       "      <td>2022-08-05</td>\n",
       "      <td>Kanyon</td>\n",
       "      <td>2022</td>\n",
       "      <td>8</td>\n",
       "      <td>4</td>\n",
       "    </tr>\n",
       "    <tr>\n",
       "      <th>1</th>\n",
       "      <td>I317333</td>\n",
       "      <td>C111565</td>\n",
       "      <td>M</td>\n",
       "      <td>21</td>\n",
       "      <td>Shoes</td>\n",
       "      <td>3</td>\n",
       "      <td>1800.51</td>\n",
       "      <td>Debit Card</td>\n",
       "      <td>2021-12-12</td>\n",
       "      <td>Forum Istanbul</td>\n",
       "      <td>2021</td>\n",
       "      <td>12</td>\n",
       "      <td>6</td>\n",
       "    </tr>\n",
       "    <tr>\n",
       "      <th>2</th>\n",
       "      <td>I127801</td>\n",
       "      <td>C266599</td>\n",
       "      <td>M</td>\n",
       "      <td>20</td>\n",
       "      <td>Clothing</td>\n",
       "      <td>1</td>\n",
       "      <td>300.08</td>\n",
       "      <td>Cash</td>\n",
       "      <td>2021-11-09</td>\n",
       "      <td>Metrocity</td>\n",
       "      <td>2021</td>\n",
       "      <td>11</td>\n",
       "      <td>1</td>\n",
       "    </tr>\n",
       "    <tr>\n",
       "      <th>3</th>\n",
       "      <td>I173702</td>\n",
       "      <td>C988172</td>\n",
       "      <td>F</td>\n",
       "      <td>66</td>\n",
       "      <td>Shoes</td>\n",
       "      <td>5</td>\n",
       "      <td>3000.85</td>\n",
       "      <td>Credit Card</td>\n",
       "      <td>2021-05-16</td>\n",
       "      <td>Metropol AVM</td>\n",
       "      <td>2021</td>\n",
       "      <td>5</td>\n",
       "      <td>6</td>\n",
       "    </tr>\n",
       "    <tr>\n",
       "      <th>4</th>\n",
       "      <td>I337046</td>\n",
       "      <td>C189076</td>\n",
       "      <td>F</td>\n",
       "      <td>53</td>\n",
       "      <td>Books</td>\n",
       "      <td>4</td>\n",
       "      <td>60.60</td>\n",
       "      <td>Cash</td>\n",
       "      <td>2021-10-24</td>\n",
       "      <td>Kanyon</td>\n",
       "      <td>2021</td>\n",
       "      <td>10</td>\n",
       "      <td>6</td>\n",
       "    </tr>\n",
       "  </tbody>\n",
       "</table>\n",
       "</div>"
      ],
      "text/plain": [
       "  invoice_no customer_id gender  age  category  quantity    price  \\\n",
       "0    I138884     C241288      F   28  Clothing         5  1500.40   \n",
       "1    I317333     C111565      M   21     Shoes         3  1800.51   \n",
       "2    I127801     C266599      M   20  Clothing         1   300.08   \n",
       "3    I173702     C988172      F   66     Shoes         5  3000.85   \n",
       "4    I337046     C189076      F   53     Books         4    60.60   \n",
       "\n",
       "  payment_method invoice_date   shopping_mall  year  month  day_of_week  \n",
       "0    Credit Card   2022-08-05          Kanyon  2022      8            4  \n",
       "1     Debit Card   2021-12-12  Forum Istanbul  2021     12            6  \n",
       "2           Cash   2021-11-09       Metrocity  2021     11            1  \n",
       "3    Credit Card   2021-05-16    Metropol AVM  2021      5            6  \n",
       "4           Cash   2021-10-24          Kanyon  2021     10            6  "
      ]
     },
     "execution_count": 21,
     "metadata": {},
     "output_type": "execute_result"
    }
   ],
   "source": [
    "df.head()"
   ]
  },
  {
   "cell_type": "markdown",
   "id": "8c918b73",
   "metadata": {},
   "source": [
    "# Step 4 - Data Load/Store"
   ]
  },
  {
   "cell_type": "code",
   "execution_count": 22,
   "id": "eba13908",
   "metadata": {},
   "outputs": [],
   "source": [
    "# Load - Step 4\n",
    "\n",
    "# Database connection parameters\n",
    "from configparser import ConfigParser\n",
    "\n",
    "config = ConfigParser()\n",
    "config.read('../config.ini')\n",
    "\n",
    "hostname = config.get('DATABASE', 'hostname')\n",
    "database = config.get('DATABASE', 'database')\n",
    "port = config.get('DATABASE', 'port')\n",
    "username = config.get('DATABASE', 'username')\n",
    "password = config.get('DATABASE', 'password')\n"
   ]
  },
  {
   "cell_type": "code",
   "execution_count": 23,
   "id": "7d383c96",
   "metadata": {},
   "outputs": [],
   "source": [
    "import psycopg2"
   ]
  },
  {
   "cell_type": "code",
   "execution_count": null,
   "id": "37b23a32",
   "metadata": {},
   "outputs": [],
   "source": [
    "conn = None\n",
    "cur = None\n",
    "\n",
    "# Connect to PostgreSQL database\n",
    "try:\n",
    "    conn = psycopg2.connect(\n",
    "        host = hostname,\n",
    "        database = database,\n",
    "        user = username,\n",
    "        password = password,\n",
    "        port = port\n",
    "    )\n",
    "    cur = conn.cursor()\n",
    "\n",
    "    cur.execute('DROP TABLE IF EXISTS customers;')\n",
    "\n",
    "    create_table_query = '''\n",
    "    CREATE TABLE IF NOT EXISTS customers (\n",
    "        invoice_no VARCHAR(20) PRIMARY KEY,\n",
    "        customer_id VARCHAR(20),\n",
    "        gender CHAR(10),\n",
    "        age INT,\n",
    "        category VARCHAR(50),\n",
    "        quantity INT,\n",
    "        price FLOAT,\n",
    "        payment_method VARCHAR(50),\n",
    "        invoice_date TIMESTAMP,\n",
    "        shopping_mall VARCHAR(50),\n",
    "        year INT,\n",
    "        month INT,\n",
    "        day_of_week INT\n",
    "    );\n",
    "    '''\n",
    "    cur.execute(create_table_query)\n",
    "\n",
    "    insert_query = '''\n",
    "    INSERT INTO customers (invoice_no, customer_id, gender, age, category, quantity, price, payment_method, invoice_date, shopping_mall, year, month, day_of_week)\n",
    "    VALUES (%s, %s, %s, %s, %s, %s, %s, %s, %s, %s, %s, %s, %s);\n",
    "    '''\n",
    "\n",
    "    # Convert DataFrame to list of tuples\n",
    "    insert_values = list(df.itertuples(index=False, name=None))\n",
    "\n",
    "    for record in insert_values:\n",
    "        cur.execute(insert_query, record)\n",
    "\n",
    "    conn.commit()\n",
    "\n",
    "except Exception as error:\n",
    "    print(f\"Error: {error}\")\n",
    "except psycopg2.Error as db_error:\n",
    "    print(f\"Database error: {db_error}\")\n",
    "finally:\n",
    "    if cur:\n",
    "        cur.close()\n",
    "    if conn:\n",
    "        conn.close()"
   ]
  }
 ],
 "metadata": {
  "kernelspec": {
   "display_name": ".venv",
   "language": "python",
   "name": "python3"
  },
  "language_info": {
   "codemirror_mode": {
    "name": "ipython",
    "version": 3
   },
   "file_extension": ".py",
   "mimetype": "text/x-python",
   "name": "python",
   "nbconvert_exporter": "python",
   "pygments_lexer": "ipython3",
   "version": "3.13.7"
  }
 },
 "nbformat": 4,
 "nbformat_minor": 5
}
