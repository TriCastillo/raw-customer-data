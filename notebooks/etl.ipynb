{
 "cells": [
  {
   "cell_type": "code",
   "execution_count": 466,
   "id": "7cb7b486",
   "metadata": {},
   "outputs": [],
   "source": [
    "import pandas as pd\n",
    "import os\n",
    "\n",
    "plot_directory = '../images/'\n",
    "\n",
    "os.makedirs(plot_directory, exist_ok=True)\n"
   ]
  },
  {
   "cell_type": "markdown",
   "id": "e03a016e",
   "metadata": {},
   "source": [
    "# Step 1 - Data Extraction/Collection"
   ]
  },
  {
   "cell_type": "code",
   "execution_count": 467,
   "id": "f1e8f921",
   "metadata": {},
   "outputs": [],
   "source": [
    "# ETL Process\n",
    "\n",
    "# Extract - Step 1\n",
    "df = pd.read_excel('../data/Raw_Data_Customer_2023.xlsx')\n"
   ]
  },
  {
   "cell_type": "markdown",
   "id": "acc2dccb",
   "metadata": {},
   "source": [
    "# Step 2 - Exploratory Data Analysis (EDA)"
   ]
  },
  {
   "cell_type": "markdown",
   "id": "c267f495",
   "metadata": {},
   "source": [
    "## Structure, Duplicates, and Null values"
   ]
  },
  {
   "cell_type": "code",
   "execution_count": 468,
   "id": "f198faad",
   "metadata": {},
   "outputs": [
    {
     "data": {
      "text/html": [
       "<div>\n",
       "<style scoped>\n",
       "    .dataframe tbody tr th:only-of-type {\n",
       "        vertical-align: middle;\n",
       "    }\n",
       "\n",
       "    .dataframe tbody tr th {\n",
       "        vertical-align: top;\n",
       "    }\n",
       "\n",
       "    .dataframe thead th {\n",
       "        text-align: right;\n",
       "    }\n",
       "</style>\n",
       "<table border=\"1\" class=\"dataframe\">\n",
       "  <thead>\n",
       "    <tr style=\"text-align: right;\">\n",
       "      <th></th>\n",
       "      <th>ID</th>\n",
       "      <th>First Name</th>\n",
       "      <th>Last Name</th>\n",
       "      <th>Gender</th>\n",
       "      <th>Age</th>\n",
       "      <th>Birthday</th>\n",
       "      <th>Items Sold</th>\n",
       "      <th>Email</th>\n",
       "      <th>Phone</th>\n",
       "    </tr>\n",
       "  </thead>\n",
       "  <tbody>\n",
       "    <tr>\n",
       "      <th>0</th>\n",
       "      <td>573819</td>\n",
       "      <td>LIAM</td>\n",
       "      <td>Garcia</td>\n",
       "      <td>Male</td>\n",
       "      <td>13.0</td>\n",
       "      <td>1990-05-10</td>\n",
       "      <td>18.0</td>\n",
       "      <td>liam.g@example.com</td>\n",
       "      <td>+63 9274836192</td>\n",
       "    </tr>\n",
       "    <tr>\n",
       "      <th>1</th>\n",
       "      <td>942736</td>\n",
       "      <td>SOPHIA</td>\n",
       "      <td>Hernandez</td>\n",
       "      <td>Female</td>\n",
       "      <td>38.0</td>\n",
       "      <td>1985-09-15</td>\n",
       "      <td>11.0</td>\n",
       "      <td>sophia.h@example.com</td>\n",
       "      <td>+63 9359017268</td>\n",
       "    </tr>\n",
       "    <tr>\n",
       "      <th>2</th>\n",
       "      <td>208457</td>\n",
       "      <td>NOAH</td>\n",
       "      <td>Lopez</td>\n",
       "      <td>M</td>\n",
       "      <td>31.0</td>\n",
       "      <td>1992-03-20</td>\n",
       "      <td>16.0</td>\n",
       "      <td>noah.l@example.com</td>\n",
       "      <td>+63 9263841509</td>\n",
       "    </tr>\n",
       "    <tr>\n",
       "      <th>3</th>\n",
       "      <td>695813</td>\n",
       "      <td>MIA</td>\n",
       "      <td>Martinez</td>\n",
       "      <td>Female</td>\n",
       "      <td>NaN</td>\n",
       "      <td>1988-07-25</td>\n",
       "      <td>5.0</td>\n",
       "      <td>MIA.M@EXAMPLE.COM</td>\n",
       "      <td>+63 9316852740</td>\n",
       "    </tr>\n",
       "    <tr>\n",
       "      <th>4</th>\n",
       "      <td>314972</td>\n",
       "      <td>Ethan</td>\n",
       "      <td>GONZALEZ</td>\n",
       "      <td>Male</td>\n",
       "      <td>29.0</td>\n",
       "      <td>1995-01-30</td>\n",
       "      <td>20.0</td>\n",
       "      <td>ETHAN.G@EXAMPLE.COM</td>\n",
       "      <td>+63 9367254810</td>\n",
       "    </tr>\n",
       "  </tbody>\n",
       "</table>\n",
       "</div>"
      ],
      "text/plain": [
       "       ID First Name  Last Name  Gender   Age   Birthday  Items Sold  \\\n",
       "0  573819       LIAM     Garcia    Male  13.0 1990-05-10        18.0   \n",
       "1  942736     SOPHIA  Hernandez  Female  38.0 1985-09-15        11.0   \n",
       "2  208457       NOAH      Lopez       M  31.0 1992-03-20        16.0   \n",
       "3  695813        MIA   Martinez  Female   NaN 1988-07-25         5.0   \n",
       "4  314972      Ethan   GONZALEZ    Male  29.0 1995-01-30        20.0   \n",
       "\n",
       "                  Email           Phone  \n",
       "0    liam.g@example.com  +63 9274836192  \n",
       "1  sophia.h@example.com  +63 9359017268  \n",
       "2    noah.l@example.com  +63 9263841509  \n",
       "3     MIA.M@EXAMPLE.COM  +63 9316852740  \n",
       "4   ETHAN.G@EXAMPLE.COM  +63 9367254810  "
      ]
     },
     "execution_count": 468,
     "metadata": {},
     "output_type": "execute_result"
    }
   ],
   "source": [
    "# EDA - Step 2\n",
    "df.head()"
   ]
  },
  {
   "cell_type": "code",
   "execution_count": 469,
   "id": "8d04c6ad",
   "metadata": {},
   "outputs": [
    {
     "name": "stdout",
     "output_type": "stream",
     "text": [
      "<class 'pandas.core.frame.DataFrame'>\n",
      "RangeIndex: 22 entries, 0 to 21\n",
      "Data columns (total 9 columns):\n",
      " #   Column      Non-Null Count  Dtype         \n",
      "---  ------      --------------  -----         \n",
      " 0   ID          22 non-null     int64         \n",
      " 1   First Name  22 non-null     object        \n",
      " 2   Last Name   22 non-null     object        \n",
      " 3   Gender      22 non-null     object        \n",
      " 4   Age         18 non-null     float64       \n",
      " 5   Birthday    22 non-null     datetime64[ns]\n",
      " 6   Items Sold  19 non-null     float64       \n",
      " 7   Email       18 non-null     object        \n",
      " 8   Phone       22 non-null     object        \n",
      "dtypes: datetime64[ns](1), float64(2), int64(1), object(5)\n",
      "memory usage: 1.7+ KB\n"
     ]
    }
   ],
   "source": [
    "df.info()\n",
    "\n",
    "# Most are object dtype, must convert to appropriate types"
   ]
  },
  {
   "cell_type": "code",
   "execution_count": 470,
   "id": "fc24494d",
   "metadata": {},
   "outputs": [
    {
     "data": {
      "text/plain": [
       "np.int64(0)"
      ]
     },
     "execution_count": 470,
     "metadata": {},
     "output_type": "execute_result"
    }
   ],
   "source": [
    "# Check for duplicates\n",
    "df.duplicated().sum()\n",
    "\n",
    "# No duplicates"
   ]
  },
  {
   "cell_type": "code",
   "execution_count": 471,
   "id": "1634ddb9",
   "metadata": {},
   "outputs": [
    {
     "data": {
      "text/plain": [
       "ID            0\n",
       "First Name    0\n",
       "Last Name     0\n",
       "Gender        0\n",
       "Age           4\n",
       "Birthday      0\n",
       "Items Sold    3\n",
       "Email         4\n",
       "Phone         0\n",
       "dtype: int64"
      ]
     },
     "execution_count": 471,
     "metadata": {},
     "output_type": "execute_result"
    }
   ],
   "source": [
    "# Check for null values\n",
    "df.isnull().sum()\n",
    "\n",
    "# Output: \n",
    "# Age: 4 - can be imputed by computing using the Birthday column\n",
    "# Items Sold: 3 - can be imputed by using the median value\n",
    "# Email: 4"
   ]
  },
  {
   "cell_type": "markdown",
   "id": "99d35a1e",
   "metadata": {},
   "source": [
    "### Rows with 'Items Sold' null value"
   ]
  },
  {
   "cell_type": "code",
   "execution_count": 472,
   "id": "902a76d3",
   "metadata": {},
   "outputs": [
    {
     "data": {
      "text/html": [
       "<div>\n",
       "<style scoped>\n",
       "    .dataframe tbody tr th:only-of-type {\n",
       "        vertical-align: middle;\n",
       "    }\n",
       "\n",
       "    .dataframe tbody tr th {\n",
       "        vertical-align: top;\n",
       "    }\n",
       "\n",
       "    .dataframe thead th {\n",
       "        text-align: right;\n",
       "    }\n",
       "</style>\n",
       "<table border=\"1\" class=\"dataframe\">\n",
       "  <thead>\n",
       "    <tr style=\"text-align: right;\">\n",
       "      <th></th>\n",
       "      <th>ID</th>\n",
       "      <th>First Name</th>\n",
       "      <th>Last Name</th>\n",
       "      <th>Gender</th>\n",
       "      <th>Age</th>\n",
       "      <th>Birthday</th>\n",
       "      <th>Items Sold</th>\n",
       "      <th>Email</th>\n",
       "      <th>Phone</th>\n",
       "    </tr>\n",
       "  </thead>\n",
       "  <tbody>\n",
       "    <tr>\n",
       "      <th>7</th>\n",
       "      <td>147826</td>\n",
       "      <td>Amelia</td>\n",
       "      <td>TORRES</td>\n",
       "      <td>F</td>\n",
       "      <td>36.0</td>\n",
       "      <td>1987-11-15</td>\n",
       "      <td>NaN</td>\n",
       "      <td>AMELIA.T@EXAMPLE.COM</td>\n",
       "      <td>+63 9345967021</td>\n",
       "    </tr>\n",
       "    <tr>\n",
       "      <th>11</th>\n",
       "      <td>236450</td>\n",
       "      <td>CHARLOTTE</td>\n",
       "      <td>Reed</td>\n",
       "      <td>Female</td>\n",
       "      <td>NaN</td>\n",
       "      <td>1993-05-05</td>\n",
       "      <td>NaN</td>\n",
       "      <td>NaN</td>\n",
       "      <td>+63 9376154820</td>\n",
       "    </tr>\n",
       "    <tr>\n",
       "      <th>18</th>\n",
       "      <td>154893</td>\n",
       "      <td>DANIEL</td>\n",
       "      <td>Howard</td>\n",
       "      <td>M</td>\n",
       "      <td>66.0</td>\n",
       "      <td>1987-06-10</td>\n",
       "      <td>NaN</td>\n",
       "      <td>daniel.h@example.com</td>\n",
       "      <td>+63 9306572149</td>\n",
       "    </tr>\n",
       "  </tbody>\n",
       "</table>\n",
       "</div>"
      ],
      "text/plain": [
       "        ID First Name Last Name  Gender   Age   Birthday  Items Sold  \\\n",
       "7   147826     Amelia    TORRES       F  36.0 1987-11-15         NaN   \n",
       "11  236450  CHARLOTTE      Reed  Female   NaN 1993-05-05         NaN   \n",
       "18  154893     DANIEL    Howard       M  66.0 1987-06-10         NaN   \n",
       "\n",
       "                   Email           Phone  \n",
       "7   AMELIA.T@EXAMPLE.COM  +63 9345967021  \n",
       "11                   NaN  +63 9376154820  \n",
       "18  daniel.h@example.com  +63 9306572149  "
      ]
     },
     "execution_count": 472,
     "metadata": {},
     "output_type": "execute_result"
    }
   ],
   "source": [
    "df[df['Items Sold'].isnull()]"
   ]
  },
  {
   "cell_type": "markdown",
   "id": "1a433900",
   "metadata": {},
   "source": [
    "### Rows with 'Age' null value"
   ]
  },
  {
   "cell_type": "code",
   "execution_count": 473,
   "id": "ade10544",
   "metadata": {},
   "outputs": [
    {
     "data": {
      "text/html": [
       "<div>\n",
       "<style scoped>\n",
       "    .dataframe tbody tr th:only-of-type {\n",
       "        vertical-align: middle;\n",
       "    }\n",
       "\n",
       "    .dataframe tbody tr th {\n",
       "        vertical-align: top;\n",
       "    }\n",
       "\n",
       "    .dataframe thead th {\n",
       "        text-align: right;\n",
       "    }\n",
       "</style>\n",
       "<table border=\"1\" class=\"dataframe\">\n",
       "  <thead>\n",
       "    <tr style=\"text-align: right;\">\n",
       "      <th></th>\n",
       "      <th>ID</th>\n",
       "      <th>First Name</th>\n",
       "      <th>Last Name</th>\n",
       "      <th>Gender</th>\n",
       "      <th>Age</th>\n",
       "      <th>Birthday</th>\n",
       "      <th>Items Sold</th>\n",
       "      <th>Email</th>\n",
       "      <th>Phone</th>\n",
       "    </tr>\n",
       "  </thead>\n",
       "  <tbody>\n",
       "    <tr>\n",
       "      <th>3</th>\n",
       "      <td>695813</td>\n",
       "      <td>MIA</td>\n",
       "      <td>Martinez</td>\n",
       "      <td>Female</td>\n",
       "      <td>NaN</td>\n",
       "      <td>1988-07-25</td>\n",
       "      <td>5.0</td>\n",
       "      <td>MIA.M@EXAMPLE.COM</td>\n",
       "      <td>+63 9316852740</td>\n",
       "    </tr>\n",
       "    <tr>\n",
       "      <th>11</th>\n",
       "      <td>236450</td>\n",
       "      <td>CHARLOTTE</td>\n",
       "      <td>Reed</td>\n",
       "      <td>Female</td>\n",
       "      <td>NaN</td>\n",
       "      <td>1993-05-05</td>\n",
       "      <td>NaN</td>\n",
       "      <td>NaN</td>\n",
       "      <td>+63 9376154820</td>\n",
       "    </tr>\n",
       "    <tr>\n",
       "      <th>15</th>\n",
       "      <td>890124</td>\n",
       "      <td>MIA</td>\n",
       "      <td>Bell</td>\n",
       "      <td>Female</td>\n",
       "      <td>NaN</td>\n",
       "      <td>1988-01-25</td>\n",
       "      <td>9.0</td>\n",
       "      <td>mia.b@example.com</td>\n",
       "      <td>+63 9297314685</td>\n",
       "    </tr>\n",
       "    <tr>\n",
       "      <th>20</th>\n",
       "      <td>695813</td>\n",
       "      <td>MIA</td>\n",
       "      <td>Bell</td>\n",
       "      <td>Female</td>\n",
       "      <td>NaN</td>\n",
       "      <td>1988-01-25</td>\n",
       "      <td>9.0</td>\n",
       "      <td>NaN</td>\n",
       "      <td>+63 9297314685</td>\n",
       "    </tr>\n",
       "  </tbody>\n",
       "</table>\n",
       "</div>"
      ],
      "text/plain": [
       "        ID First Name Last Name  Gender  Age   Birthday  Items Sold  \\\n",
       "3   695813        MIA  Martinez  Female  NaN 1988-07-25         5.0   \n",
       "11  236450  CHARLOTTE      Reed  Female  NaN 1993-05-05         NaN   \n",
       "15  890124        MIA      Bell  Female  NaN 1988-01-25         9.0   \n",
       "20  695813        MIA      Bell  Female  NaN 1988-01-25         9.0   \n",
       "\n",
       "                Email           Phone  \n",
       "3   MIA.M@EXAMPLE.COM  +63 9316852740  \n",
       "11                NaN  +63 9376154820  \n",
       "15  mia.b@example.com  +63 9297314685  \n",
       "20                NaN  +63 9297314685  "
      ]
     },
     "execution_count": 473,
     "metadata": {},
     "output_type": "execute_result"
    }
   ],
   "source": [
    "df[df['Age'].isnull()]"
   ]
  },
  {
   "cell_type": "markdown",
   "id": "39ff0443",
   "metadata": {},
   "source": [
    "### Rows with 'Email' null value"
   ]
  },
  {
   "cell_type": "code",
   "execution_count": 474,
   "id": "d0dab40a",
   "metadata": {},
   "outputs": [
    {
     "data": {
      "text/html": [
       "<div>\n",
       "<style scoped>\n",
       "    .dataframe tbody tr th:only-of-type {\n",
       "        vertical-align: middle;\n",
       "    }\n",
       "\n",
       "    .dataframe tbody tr th {\n",
       "        vertical-align: top;\n",
       "    }\n",
       "\n",
       "    .dataframe thead th {\n",
       "        text-align: right;\n",
       "    }\n",
       "</style>\n",
       "<table border=\"1\" class=\"dataframe\">\n",
       "  <thead>\n",
       "    <tr style=\"text-align: right;\">\n",
       "      <th></th>\n",
       "      <th>ID</th>\n",
       "      <th>First Name</th>\n",
       "      <th>Last Name</th>\n",
       "      <th>Gender</th>\n",
       "      <th>Age</th>\n",
       "      <th>Birthday</th>\n",
       "      <th>Items Sold</th>\n",
       "      <th>Email</th>\n",
       "      <th>Phone</th>\n",
       "    </tr>\n",
       "  </thead>\n",
       "  <tbody>\n",
       "    <tr>\n",
       "      <th>11</th>\n",
       "      <td>236450</td>\n",
       "      <td>CHARLOTTE</td>\n",
       "      <td>Reed</td>\n",
       "      <td>Female</td>\n",
       "      <td>NaN</td>\n",
       "      <td>1993-05-05</td>\n",
       "      <td>NaN</td>\n",
       "      <td>NaN</td>\n",
       "      <td>+63 9376154820</td>\n",
       "    </tr>\n",
       "    <tr>\n",
       "      <th>16</th>\n",
       "      <td>564309</td>\n",
       "      <td>ELIJAH</td>\n",
       "      <td>Powell</td>\n",
       "      <td>Male</td>\n",
       "      <td>29.0</td>\n",
       "      <td>1994-04-01</td>\n",
       "      <td>12.0</td>\n",
       "      <td>NaN</td>\n",
       "      <td>+63 9375028461</td>\n",
       "    </tr>\n",
       "    <tr>\n",
       "      <th>20</th>\n",
       "      <td>695813</td>\n",
       "      <td>MIA</td>\n",
       "      <td>Bell</td>\n",
       "      <td>Female</td>\n",
       "      <td>NaN</td>\n",
       "      <td>1988-01-25</td>\n",
       "      <td>9.0</td>\n",
       "      <td>NaN</td>\n",
       "      <td>+63 9297314685</td>\n",
       "    </tr>\n",
       "    <tr>\n",
       "      <th>21</th>\n",
       "      <td>208457</td>\n",
       "      <td>NOAH</td>\n",
       "      <td>Lopez</td>\n",
       "      <td>M</td>\n",
       "      <td>31.0</td>\n",
       "      <td>1992-03-20</td>\n",
       "      <td>16.0</td>\n",
       "      <td>NaN</td>\n",
       "      <td>+63 9263841509</td>\n",
       "    </tr>\n",
       "  </tbody>\n",
       "</table>\n",
       "</div>"
      ],
      "text/plain": [
       "        ID First Name Last Name  Gender   Age   Birthday  Items Sold Email  \\\n",
       "11  236450  CHARLOTTE      Reed  Female   NaN 1993-05-05         NaN   NaN   \n",
       "16  564309     ELIJAH    Powell    Male  29.0 1994-04-01        12.0   NaN   \n",
       "20  695813        MIA      Bell  Female   NaN 1988-01-25         9.0   NaN   \n",
       "21  208457       NOAH     Lopez       M  31.0 1992-03-20        16.0   NaN   \n",
       "\n",
       "             Phone  \n",
       "11  +63 9376154820  \n",
       "16  +63 9375028461  \n",
       "20  +63 9297314685  \n",
       "21  +63 9263841509  "
      ]
     },
     "execution_count": 474,
     "metadata": {},
     "output_type": "execute_result"
    }
   ],
   "source": [
    "df[df['Email'].isnull()]"
   ]
  },
  {
   "cell_type": "markdown",
   "id": "d4458153",
   "metadata": {},
   "source": [
    "## Basic visualizations"
   ]
  },
  {
   "cell_type": "markdown",
   "id": "b6d6fb87",
   "metadata": {},
   "source": [
    "### Gender"
   ]
  },
  {
   "cell_type": "code",
   "execution_count": 475,
   "id": "18a1da32",
   "metadata": {},
   "outputs": [
    {
     "data": {
      "image/png": "[encoded data removed]",
      "text/plain": [
       "<Figure size 640x480 with 1 Axes>"
      ]
     },
     "metadata": {},
     "output_type": "display_data"
    }
   ],
   "source": [
    "gender_group = df.groupby('Gender')['ID'].count().reset_index(name='Count')\n",
    "\n",
    "ax = gender_group.plot.bar(x='Gender', y='Count')\n",
    "\n",
    "fig = ax.figure\n",
    "\n",
    "fig.savefig(os.path.join(plot_directory, 'raw_gender_distribution_barplot.png'))\n",
    "\n",
    "# Output:\n",
    "# F: 1\n",
    "# M: 3\n",
    "# Female: 7\n",
    "# Male: 7\n",
    "\n",
    "# Multiple types of only two genders are present, must standardize"
   ]
  },
  {
   "cell_type": "markdown",
   "id": "3f7d4f29",
   "metadata": {},
   "source": [
    "### Age"
   ]
  },
  {
   "cell_type": "code",
   "execution_count": 476,
   "id": "82bf74b5",
   "metadata": {},
   "outputs": [
    {
     "data": {
      "image/png": "[encoded data removed]",
      "text/plain": [
       "<Figure size 640x480 with 1 Axes>"
      ]
     },
     "metadata": {},
     "output_type": "display_data"
    }
   ],
   "source": [
    "ax = df['Age'].plot.box()\n",
    "\n",
    "fig = ax.figure\n",
    "\n",
    "fig.savefig(os.path.join(plot_directory, 'raw_age_boxplot.png'))"
   ]
  },
  {
   "cell_type": "code",
   "execution_count": 477,
   "id": "87a123d9",
   "metadata": {},
   "outputs": [
    {
     "data": {
      "text/html": [
       "<div>\n",
       "<style scoped>\n",
       "    .dataframe tbody tr th:only-of-type {\n",
       "        vertical-align: middle;\n",
       "    }\n",
       "\n",
       "    .dataframe tbody tr th {\n",
       "        vertical-align: top;\n",
       "    }\n",
       "\n",
       "    .dataframe thead th {\n",
       "        text-align: right;\n",
       "    }\n",
       "</style>\n",
       "<table border=\"1\" class=\"dataframe\">\n",
       "  <thead>\n",
       "    <tr style=\"text-align: right;\">\n",
       "      <th></th>\n",
       "      <th>ID</th>\n",
       "      <th>First Name</th>\n",
       "      <th>Last Name</th>\n",
       "      <th>Gender</th>\n",
       "      <th>Age</th>\n",
       "      <th>Birthday</th>\n",
       "      <th>Items Sold</th>\n",
       "      <th>Email</th>\n",
       "      <th>Phone</th>\n",
       "    </tr>\n",
       "  </thead>\n",
       "  <tbody>\n",
       "    <tr>\n",
       "      <th>0</th>\n",
       "      <td>573819</td>\n",
       "      <td>LIAM</td>\n",
       "      <td>Garcia</td>\n",
       "      <td>Male</td>\n",
       "      <td>13.0</td>\n",
       "      <td>1990-05-10</td>\n",
       "      <td>18.0</td>\n",
       "      <td>liam.g@example.com</td>\n",
       "      <td>+63 9274836192</td>\n",
       "    </tr>\n",
       "    <tr>\n",
       "      <th>9</th>\n",
       "      <td>420583</td>\n",
       "      <td>EVELYN</td>\n",
       "      <td>Flores</td>\n",
       "      <td>Female</td>\n",
       "      <td>13.0</td>\n",
       "      <td>1991-02-25</td>\n",
       "      <td>13.0</td>\n",
       "      <td>EVELYN.F@EXAMPLE.COM</td>\n",
       "      <td>+63 9301756943</td>\n",
       "    </tr>\n",
       "    <tr>\n",
       "      <th>18</th>\n",
       "      <td>154893</td>\n",
       "      <td>DANIEL</td>\n",
       "      <td>Howard</td>\n",
       "      <td>M</td>\n",
       "      <td>66.0</td>\n",
       "      <td>1987-06-10</td>\n",
       "      <td>NaN</td>\n",
       "      <td>daniel.h@example.com</td>\n",
       "      <td>+63 9306572149</td>\n",
       "    </tr>\n",
       "  </tbody>\n",
       "</table>\n",
       "</div>"
      ],
      "text/plain": [
       "        ID First Name Last Name  Gender   Age   Birthday  Items Sold  \\\n",
       "0   573819       LIAM    Garcia    Male  13.0 1990-05-10        18.0   \n",
       "9   420583     EVELYN    Flores  Female  13.0 1991-02-25        13.0   \n",
       "18  154893     DANIEL    Howard       M  66.0 1987-06-10         NaN   \n",
       "\n",
       "                   Email           Phone  \n",
       "0     liam.g@example.com  +63 9274836192  \n",
       "9   EVELYN.F@EXAMPLE.COM  +63 9301756943  \n",
       "18  daniel.h@example.com  +63 9306572149  "
      ]
     },
     "execution_count": 477,
     "metadata": {},
     "output_type": "execute_result"
    }
   ],
   "source": [
    "df[(df['Age'] < 20) | (df['Age'] > 50)]\n",
    "\n",
    "# Three age outliers are present\n",
    "# When double-checked, the ages of the following are falsely computed"
   ]
  },
  {
   "cell_type": "markdown",
   "id": "aaa1f779",
   "metadata": {},
   "source": [
    "### Items Sold"
   ]
  },
  {
   "cell_type": "code",
   "execution_count": 478,
   "id": "ff0a6d2b",
   "metadata": {},
   "outputs": [
    {
     "data": {
      "image/png": "[encoded data removed]",
      "text/plain": [
       "<Figure size 640x480 with 1 Axes>"
      ]
     },
     "metadata": {},
     "output_type": "display_data"
    }
   ],
   "source": [
    "ax = df['Items Sold'].plot.box()\n",
    "\n",
    "fig = ax.figure\n",
    "\n",
    "fig.savefig(os.path.join(plot_directory, 'raw_items_sold_boxplot.png'))\n",
    "\n",
    "# Output: \n",
    "# An outlier of 1000 items sold is present\n",
    "# Clearly an error compared to the range of 1-~50"
   ]
  },
  {
   "cell_type": "markdown",
   "id": "ea09bd9a",
   "metadata": {},
   "source": [
    "# Step 3 - Data Cleaning"
   ]
  },
  {
   "cell_type": "markdown",
   "id": "af990ba3",
   "metadata": {},
   "source": [
    "## Format strings into proper casing"
   ]
  },
  {
   "cell_type": "code",
   "execution_count": 479,
   "id": "876af5d0",
   "metadata": {},
   "outputs": [
    {
     "data": {
      "text/html": [
       "<div>\n",
       "<style scoped>\n",
       "    .dataframe tbody tr th:only-of-type {\n",
       "        vertical-align: middle;\n",
       "    }\n",
       "\n",
       "    .dataframe tbody tr th {\n",
       "        vertical-align: top;\n",
       "    }\n",
       "\n",
       "    .dataframe thead th {\n",
       "        text-align: right;\n",
       "    }\n",
       "</style>\n",
       "<table border=\"1\" class=\"dataframe\">\n",
       "  <thead>\n",
       "    <tr style=\"text-align: right;\">\n",
       "      <th></th>\n",
       "      <th>First Name</th>\n",
       "      <th>Last Name</th>\n",
       "    </tr>\n",
       "  </thead>\n",
       "  <tbody>\n",
       "    <tr>\n",
       "      <th>0</th>\n",
       "      <td>LIAM</td>\n",
       "      <td>GARCIA</td>\n",
       "    </tr>\n",
       "    <tr>\n",
       "      <th>1</th>\n",
       "      <td>SOPHIA</td>\n",
       "      <td>HERNANDEZ</td>\n",
       "    </tr>\n",
       "    <tr>\n",
       "      <th>2</th>\n",
       "      <td>NOAH</td>\n",
       "      <td>LOPEZ</td>\n",
       "    </tr>\n",
       "    <tr>\n",
       "      <th>3</th>\n",
       "      <td>MIA</td>\n",
       "      <td>MARTINEZ</td>\n",
       "    </tr>\n",
       "    <tr>\n",
       "      <th>4</th>\n",
       "      <td>ETHAN</td>\n",
       "      <td>GONZALEZ</td>\n",
       "    </tr>\n",
       "    <tr>\n",
       "      <th>5</th>\n",
       "      <td>ISABELLA</td>\n",
       "      <td>PEREZ</td>\n",
       "    </tr>\n",
       "    <tr>\n",
       "      <th>6</th>\n",
       "      <td>JAMES</td>\n",
       "      <td>RAMIREZ</td>\n",
       "    </tr>\n",
       "    <tr>\n",
       "      <th>7</th>\n",
       "      <td>AMELIA</td>\n",
       "      <td>TORRES</td>\n",
       "    </tr>\n",
       "    <tr>\n",
       "      <th>8</th>\n",
       "      <td>ALEXANDER</td>\n",
       "      <td>SANCHEZ</td>\n",
       "    </tr>\n",
       "    <tr>\n",
       "      <th>9</th>\n",
       "      <td>EVELYN</td>\n",
       "      <td>FLORES</td>\n",
       "    </tr>\n",
       "    <tr>\n",
       "      <th>10</th>\n",
       "      <td>WILLIAM</td>\n",
       "      <td>RIVERA</td>\n",
       "    </tr>\n",
       "    <tr>\n",
       "      <th>11</th>\n",
       "      <td>CHARLOTTE</td>\n",
       "      <td>REED</td>\n",
       "    </tr>\n",
       "    <tr>\n",
       "      <th>12</th>\n",
       "      <td>OLIVER</td>\n",
       "      <td>WARD</td>\n",
       "    </tr>\n",
       "    <tr>\n",
       "      <th>13</th>\n",
       "      <td>HARPER</td>\n",
       "      <td>COOK</td>\n",
       "    </tr>\n",
       "    <tr>\n",
       "      <th>14</th>\n",
       "      <td>BENJAMIN</td>\n",
       "      <td>MURPHY</td>\n",
       "    </tr>\n",
       "    <tr>\n",
       "      <th>15</th>\n",
       "      <td>MIA</td>\n",
       "      <td>BELL</td>\n",
       "    </tr>\n",
       "    <tr>\n",
       "      <th>16</th>\n",
       "      <td>ELIJAH</td>\n",
       "      <td>POWELL</td>\n",
       "    </tr>\n",
       "    <tr>\n",
       "      <th>17</th>\n",
       "      <td>ELIZABETH</td>\n",
       "      <td>LONG</td>\n",
       "    </tr>\n",
       "    <tr>\n",
       "      <th>18</th>\n",
       "      <td>DANIEL</td>\n",
       "      <td>HOWARD</td>\n",
       "    </tr>\n",
       "    <tr>\n",
       "      <th>19</th>\n",
       "      <td>ABIGAIL</td>\n",
       "      <td>WARD</td>\n",
       "    </tr>\n",
       "    <tr>\n",
       "      <th>20</th>\n",
       "      <td>MIA</td>\n",
       "      <td>BELL</td>\n",
       "    </tr>\n",
       "    <tr>\n",
       "      <th>21</th>\n",
       "      <td>NOAH</td>\n",
       "      <td>LOPEZ</td>\n",
       "    </tr>\n",
       "  </tbody>\n",
       "</table>\n",
       "</div>"
      ],
      "text/plain": [
       "   First Name  Last Name\n",
       "0        LIAM     GARCIA\n",
       "1      SOPHIA  HERNANDEZ\n",
       "2        NOAH      LOPEZ\n",
       "3         MIA   MARTINEZ\n",
       "4       ETHAN   GONZALEZ\n",
       "5    ISABELLA      PEREZ\n",
       "6       JAMES    RAMIREZ\n",
       "7      AMELIA     TORRES\n",
       "8   ALEXANDER    SANCHEZ\n",
       "9      EVELYN     FLORES\n",
       "10    WILLIAM     RIVERA\n",
       "11  CHARLOTTE       REED\n",
       "12     OLIVER       WARD\n",
       "13     HARPER       COOK\n",
       "14   BENJAMIN     MURPHY\n",
       "15        MIA       BELL\n",
       "16     ELIJAH     POWELL\n",
       "17  ELIZABETH       LONG\n",
       "18     DANIEL     HOWARD\n",
       "19    ABIGAIL       WARD\n",
       "20        MIA       BELL\n",
       "21       NOAH      LOPEZ"
      ]
     },
     "execution_count": 479,
     "metadata": {},
     "output_type": "execute_result"
    }
   ],
   "source": [
    "# Convert the first and last name to uppercase\n",
    "df['First Name'] = df['First Name'].str.upper()\n",
    "df['Last Name'] = df['Last Name'].str.upper()\n",
    "\n",
    "df[['First Name', 'Last Name']]"
   ]
  },
  {
   "cell_type": "markdown",
   "id": "3b9c53a1",
   "metadata": {},
   "source": [
    "## Handling multiple 'Gender' categories"
   ]
  },
  {
   "cell_type": "code",
   "execution_count": 480,
   "id": "a51e9a7f",
   "metadata": {},
   "outputs": [],
   "source": [
    "df['Gender'] = df['Gender'].str.upper()\n",
    "\n",
    "df['Gender'] = df['Gender'].replace({'M' : 'MALE', 'F' : 'FEMALE'})"
   ]
  },
  {
   "cell_type": "code",
   "execution_count": 481,
   "id": "1102cf7f",
   "metadata": {},
   "outputs": [
    {
     "data": {
      "text/plain": [
       "0       MALE\n",
       "1     FEMALE\n",
       "2       MALE\n",
       "3     FEMALE\n",
       "4       MALE\n",
       "5     FEMALE\n",
       "6       MALE\n",
       "7     FEMALE\n",
       "8       MALE\n",
       "9     FEMALE\n",
       "10      MALE\n",
       "11    FEMALE\n",
       "12      MALE\n",
       "13    FEMALE\n",
       "14      MALE\n",
       "15    FEMALE\n",
       "16      MALE\n",
       "17    FEMALE\n",
       "18      MALE\n",
       "19    FEMALE\n",
       "20    FEMALE\n",
       "21      MALE\n",
       "Name: Gender, dtype: object"
      ]
     },
     "execution_count": 481,
     "metadata": {},
     "output_type": "execute_result"
    }
   ],
   "source": [
    "df['Gender']"
   ]
  },
  {
   "cell_type": "code",
   "execution_count": 482,
   "id": "7e1163af",
   "metadata": {},
   "outputs": [
    {
     "data": {
      "image/png": "[encoded data removed]",
      "text/plain": [
       "<Figure size 640x480 with 1 Axes>"
      ]
     },
     "metadata": {},
     "output_type": "display_data"
    }
   ],
   "source": [
    "gender_group = df.groupby('Gender')['ID'].count().reset_index(name='Count')\n",
    "\n",
    "ax = gender_group.plot.bar(x='Gender', y='Count')\n",
    "fig = ax.figure\n",
    "fig.savefig(os.path.join(plot_directory, 'processed_gender_distribution_barplot.png'))"
   ]
  },
  {
   "cell_type": "markdown",
   "id": "4dc860e1",
   "metadata": {},
   "source": [
    "## Handling 'Age' null values"
   ]
  },
  {
   "cell_type": "code",
   "execution_count": 483,
   "id": "2481fc46",
   "metadata": {},
   "outputs": [],
   "source": [
    "# Since all birthdays are present, we can compute the age of each customer\n",
    "today = pd.to_datetime('2023-12-31')\n",
    "\n",
    "df['Birthday'] = pd.to_datetime(df['Birthday'], format='%Y-%m-%d')\n",
    "\n",
    "# Condition for month and day to check if the birthday has occurred this year\n",
    "# Substract customer's year from current year\n",
    "# If exact month and day has not occured yet, subtract 0\n",
    "df['Age'] = today.year - df['Birthday'].dt.year - ((today.month < df['Birthday'].dt.month) & (today.day < df['Birthday'].dt.day))\n"
   ]
  },
  {
   "cell_type": "code",
   "execution_count": 484,
   "id": "69f2a434",
   "metadata": {},
   "outputs": [
    {
     "data": {
      "text/plain": [
       "0     33\n",
       "1     38\n",
       "2     31\n",
       "3     35\n",
       "4     28\n",
       "5     30\n",
       "6     33\n",
       "7     36\n",
       "8     29\n",
       "9     32\n",
       "10    37\n",
       "11    30\n",
       "12    34\n",
       "13    27\n",
       "14    31\n",
       "15    35\n",
       "16    29\n",
       "17    33\n",
       "18    36\n",
       "19    32\n",
       "20    35\n",
       "21    31\n",
       "Name: Age, dtype: int32"
      ]
     },
     "execution_count": 484,
     "metadata": {},
     "output_type": "execute_result"
    }
   ],
   "source": [
    "df['Age']"
   ]
  },
  {
   "cell_type": "code",
   "execution_count": 485,
   "id": "0b7ba984",
   "metadata": {},
   "outputs": [
    {
     "data": {
      "image/png": "[encoded data removed]",
      "text/plain": [
       "<Figure size 640x480 with 1 Axes>"
      ]
     },
     "metadata": {},
     "output_type": "display_data"
    }
   ],
   "source": [
    "ax = df['Age'].plot.box()\n",
    "\n",
    "fig = ax.figure\n",
    "\n",
    "fig.savefig(os.path.join(plot_directory, 'processed_age_boxplot.png'))"
   ]
  },
  {
   "cell_type": "markdown",
   "id": "6a095c32",
   "metadata": {},
   "source": [
    "## Handling 'Items Sold' "
   ]
  },
  {
   "cell_type": "code",
   "execution_count": 486,
   "id": "eea17567",
   "metadata": {},
   "outputs": [],
   "source": [
    "# Remove the 1000 items sold outlier but keep the null values for later imputations\n",
    "df = df[(df['Items Sold'].isnull()) | (df['Items Sold'] < 1000)].copy()"
   ]
  },
  {
   "cell_type": "code",
   "execution_count": 487,
   "id": "205df63e",
   "metadata": {},
   "outputs": [
    {
     "data": {
      "image/png": "[encoded data removed]",
      "text/plain": [
       "<Figure size 640x480 with 1 Axes>"
      ]
     },
     "metadata": {},
     "output_type": "display_data"
    }
   ],
   "source": [
    "# Double-check if successfully removed outlier\n",
    "ax = df['Items Sold'].plot.box()\n",
    "fig = ax.figure\n",
    "fig.savefig(os.path.join(plot_directory, 'filtered_items_sold_wo_outlier_boxplot.png'))"
   ]
  },
  {
   "cell_type": "code",
   "execution_count": 488,
   "id": "75a343a2",
   "metadata": {},
   "outputs": [
    {
     "data": {
      "image/png": "[encoded data removed]",
      "text/plain": [
       "<Figure size 640x480 with 1 Axes>"
      ]
     },
     "metadata": {},
     "output_type": "display_data"
    }
   ],
   "source": [
    "ax = df['Items Sold'].plot.hist(bins=20, alpha=0.7)\n",
    "fig = ax.figure\n",
    "fig.savefig(os.path.join(plot_directory, 'filtered_items_sold_w_null_histogram.png'))\n",
    "\n",
    "# Histogram is not normally distributed and slightly skewed\n",
    "# Use median to impute missing values"
   ]
  },
  {
   "cell_type": "code",
   "execution_count": 489,
   "id": "066713e0",
   "metadata": {},
   "outputs": [
    {
     "data": {
      "text/plain": [
       "np.float64(12.5)"
      ]
     },
     "execution_count": 489,
     "metadata": {},
     "output_type": "execute_result"
    }
   ],
   "source": [
    "df['Items Sold'].median()"
   ]
  },
  {
   "cell_type": "code",
   "execution_count": 490,
   "id": "b85920a6",
   "metadata": {},
   "outputs": [
    {
     "data": {
      "text/plain": [
       "0     18.0\n",
       "1     11.0\n",
       "2     16.0\n",
       "3      5.0\n",
       "4     20.0\n",
       "5     18.0\n",
       "6     10.0\n",
       "7     12.5\n",
       "8     13.0\n",
       "9     13.0\n",
       "10    17.0\n",
       "11    12.5\n",
       "12     5.0\n",
       "14     8.0\n",
       "15     9.0\n",
       "16    12.0\n",
       "17    13.0\n",
       "18    12.5\n",
       "19     8.0\n",
       "20     9.0\n",
       "21    16.0\n",
       "Name: Items Sold, dtype: float64"
      ]
     },
     "execution_count": 490,
     "metadata": {},
     "output_type": "execute_result"
    }
   ],
   "source": [
    "df['Items Sold'] = df['Items Sold'].fillna(df['Items Sold'].median())\n",
    "\n",
    "df['Items Sold']"
   ]
  },
  {
   "cell_type": "code",
   "execution_count": 491,
   "id": "0b45a67e",
   "metadata": {},
   "outputs": [
    {
     "data": {
      "image/png": "[encoded data removed]",
      "text/plain": [
       "<Figure size 640x480 with 1 Axes>"
      ]
     },
     "metadata": {},
     "output_type": "display_data"
    }
   ],
   "source": [
    "ax = df['Items Sold'].plot.hist(bins=30, alpha=0.7)\n",
    "fig = ax.figure\n",
    "fig.savefig(os.path.join(plot_directory, 'processed_items_sold_histogram.png'))"
   ]
  },
  {
   "cell_type": "code",
   "execution_count": 492,
   "id": "ebcabda7",
   "metadata": {},
   "outputs": [],
   "source": [
    "# Format the email into lowercase\n",
    "df['Email'] = df['Email'].str.lower()\n",
    "\n",
    "# By observing that the email format for each customer is consistent, we can extract the initial of the last name\n",
    "\n",
    "# Store the initial last name\n",
    "initial_ln = df['Last Name'].str[0]\n",
    "\n",
    "customer_email = df['First Name'] + '.' + initial_ln + '@' + 'example.com'\n",
    "\n",
    "df.loc[df['Email'].isnull(), 'Email'] = customer_email\n",
    "\n",
    "df['Email'] = df['Email'].str.lower()\n"
   ]
  },
  {
   "cell_type": "code",
   "execution_count": 493,
   "id": "e7631ebb",
   "metadata": {},
   "outputs": [
    {
     "data": {
      "text/html": [
       "<div>\n",
       "<style scoped>\n",
       "    .dataframe tbody tr th:only-of-type {\n",
       "        vertical-align: middle;\n",
       "    }\n",
       "\n",
       "    .dataframe tbody tr th {\n",
       "        vertical-align: top;\n",
       "    }\n",
       "\n",
       "    .dataframe thead th {\n",
       "        text-align: right;\n",
       "    }\n",
       "</style>\n",
       "<table border=\"1\" class=\"dataframe\">\n",
       "  <thead>\n",
       "    <tr style=\"text-align: right;\">\n",
       "      <th></th>\n",
       "      <th>First Name</th>\n",
       "      <th>Last Name</th>\n",
       "      <th>Email</th>\n",
       "    </tr>\n",
       "  </thead>\n",
       "  <tbody>\n",
       "    <tr>\n",
       "      <th>0</th>\n",
       "      <td>LIAM</td>\n",
       "      <td>GARCIA</td>\n",
       "      <td>liam.g@example.com</td>\n",
       "    </tr>\n",
       "    <tr>\n",
       "      <th>1</th>\n",
       "      <td>SOPHIA</td>\n",
       "      <td>HERNANDEZ</td>\n",
       "      <td>sophia.h@example.com</td>\n",
       "    </tr>\n",
       "    <tr>\n",
       "      <th>2</th>\n",
       "      <td>NOAH</td>\n",
       "      <td>LOPEZ</td>\n",
       "      <td>noah.l@example.com</td>\n",
       "    </tr>\n",
       "    <tr>\n",
       "      <th>3</th>\n",
       "      <td>MIA</td>\n",
       "      <td>MARTINEZ</td>\n",
       "      <td>mia.m@example.com</td>\n",
       "    </tr>\n",
       "    <tr>\n",
       "      <th>4</th>\n",
       "      <td>ETHAN</td>\n",
       "      <td>GONZALEZ</td>\n",
       "      <td>ethan.g@example.com</td>\n",
       "    </tr>\n",
       "  </tbody>\n",
       "</table>\n",
       "</div>"
      ],
      "text/plain": [
       "  First Name  Last Name                 Email\n",
       "0       LIAM     GARCIA    liam.g@example.com\n",
       "1     SOPHIA  HERNANDEZ  sophia.h@example.com\n",
       "2       NOAH      LOPEZ    noah.l@example.com\n",
       "3        MIA   MARTINEZ     mia.m@example.com\n",
       "4      ETHAN   GONZALEZ   ethan.g@example.com"
      ]
     },
     "execution_count": 493,
     "metadata": {},
     "output_type": "execute_result"
    }
   ],
   "source": [
    "df[['First Name', 'Last Name', 'Email']].head()"
   ]
  },
  {
   "cell_type": "code",
   "execution_count": 494,
   "id": "abaafd0d",
   "metadata": {},
   "outputs": [
    {
     "data": {
      "text/html": [
       "<div>\n",
       "<style scoped>\n",
       "    .dataframe tbody tr th:only-of-type {\n",
       "        vertical-align: middle;\n",
       "    }\n",
       "\n",
       "    .dataframe tbody tr th {\n",
       "        vertical-align: top;\n",
       "    }\n",
       "\n",
       "    .dataframe thead th {\n",
       "        text-align: right;\n",
       "    }\n",
       "</style>\n",
       "<table border=\"1\" class=\"dataframe\">\n",
       "  <thead>\n",
       "    <tr style=\"text-align: right;\">\n",
       "      <th></th>\n",
       "      <th>ID</th>\n",
       "      <th>First Name</th>\n",
       "      <th>Last Name</th>\n",
       "      <th>Gender</th>\n",
       "      <th>Age</th>\n",
       "      <th>Birthday</th>\n",
       "      <th>Items Sold</th>\n",
       "      <th>Email</th>\n",
       "      <th>Phone</th>\n",
       "    </tr>\n",
       "  </thead>\n",
       "  <tbody>\n",
       "    <tr>\n",
       "      <th>0</th>\n",
       "      <td>573819</td>\n",
       "      <td>LIAM</td>\n",
       "      <td>GARCIA</td>\n",
       "      <td>MALE</td>\n",
       "      <td>33</td>\n",
       "      <td>1990-05-10</td>\n",
       "      <td>18.0</td>\n",
       "      <td>liam.g@example.com</td>\n",
       "      <td>+63 9274836192</td>\n",
       "    </tr>\n",
       "    <tr>\n",
       "      <th>1</th>\n",
       "      <td>942736</td>\n",
       "      <td>SOPHIA</td>\n",
       "      <td>HERNANDEZ</td>\n",
       "      <td>FEMALE</td>\n",
       "      <td>38</td>\n",
       "      <td>1985-09-15</td>\n",
       "      <td>11.0</td>\n",
       "      <td>sophia.h@example.com</td>\n",
       "      <td>+63 9359017268</td>\n",
       "    </tr>\n",
       "    <tr>\n",
       "      <th>2</th>\n",
       "      <td>208457</td>\n",
       "      <td>NOAH</td>\n",
       "      <td>LOPEZ</td>\n",
       "      <td>MALE</td>\n",
       "      <td>31</td>\n",
       "      <td>1992-03-20</td>\n",
       "      <td>16.0</td>\n",
       "      <td>noah.l@example.com</td>\n",
       "      <td>+63 9263841509</td>\n",
       "    </tr>\n",
       "    <tr>\n",
       "      <th>3</th>\n",
       "      <td>695813</td>\n",
       "      <td>MIA</td>\n",
       "      <td>MARTINEZ</td>\n",
       "      <td>FEMALE</td>\n",
       "      <td>35</td>\n",
       "      <td>1988-07-25</td>\n",
       "      <td>5.0</td>\n",
       "      <td>mia.m@example.com</td>\n",
       "      <td>+63 9316852740</td>\n",
       "    </tr>\n",
       "    <tr>\n",
       "      <th>4</th>\n",
       "      <td>314972</td>\n",
       "      <td>ETHAN</td>\n",
       "      <td>GONZALEZ</td>\n",
       "      <td>MALE</td>\n",
       "      <td>28</td>\n",
       "      <td>1995-01-30</td>\n",
       "      <td>20.0</td>\n",
       "      <td>ethan.g@example.com</td>\n",
       "      <td>+63 9367254810</td>\n",
       "    </tr>\n",
       "  </tbody>\n",
       "</table>\n",
       "</div>"
      ],
      "text/plain": [
       "       ID First Name  Last Name  Gender  Age   Birthday  Items Sold  \\\n",
       "0  573819       LIAM     GARCIA    MALE   33 1990-05-10        18.0   \n",
       "1  942736     SOPHIA  HERNANDEZ  FEMALE   38 1985-09-15        11.0   \n",
       "2  208457       NOAH      LOPEZ    MALE   31 1992-03-20        16.0   \n",
       "3  695813        MIA   MARTINEZ  FEMALE   35 1988-07-25         5.0   \n",
       "4  314972      ETHAN   GONZALEZ    MALE   28 1995-01-30        20.0   \n",
       "\n",
       "                  Email           Phone  \n",
       "0    liam.g@example.com  +63 9274836192  \n",
       "1  sophia.h@example.com  +63 9359017268  \n",
       "2    noah.l@example.com  +63 9263841509  \n",
       "3     mia.m@example.com  +63 9316852740  \n",
       "4   ethan.g@example.com  +63 9367254810  "
      ]
     },
     "execution_count": 494,
     "metadata": {},
     "output_type": "execute_result"
    }
   ],
   "source": [
    "# Double-check on final DataFrame\n",
    "df.head()"
   ]
  },
  {
   "cell_type": "markdown",
   "id": "8c918b73",
   "metadata": {},
   "source": [
    "# Step 4 - Data Load/Store"
   ]
  },
  {
   "cell_type": "code",
   "execution_count": 495,
   "id": "61d6e282",
   "metadata": {},
   "outputs": [],
   "source": [
    "# Load - Step 4\n",
    "df.to_excel('../data/Processed_Customer_2023.xlsx', index=False)"
   ]
  }
 ],
 "metadata": {
  "kernelspec": {
   "display_name": ".venv",
   "language": "python",
   "name": "python3"
  },
  "language_info": {
   "codemirror_mode": {
    "name": "ipython",
    "version": 3
   },
   "file_extension": ".py",
   "mimetype": "text/x-python",
   "name": "python",
   "nbconvert_exporter": "python",
   "pygments_lexer": "ipython3",
   "version": "3.13.7"
  }
 },
 "nbformat": 4,
 "nbformat_minor": 5
}
